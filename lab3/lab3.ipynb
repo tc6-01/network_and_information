{
 "cells": [
  {
   "cell_type": "code",
   "execution_count": 2,
   "metadata": {},
   "outputs": [
    {
     "name": "stdout",
     "output_type": "stream",
     "text": [
      "Model loaded succeed\n",
      "successfully cut file ChineseInput.txt!\n",
      "successfully cut file ChineseInput.txt!\n"
     ]
    }
   ],
   "source": [
    "import thulac\n",
    "\n",
    "thu = thulac.thulac(seg_only=True)\n",
    "thu.cut_f(\"ChineseInput.txt\",\"result.txt\")\n",
    "thu.cut_f(\"ChineseInput.txt\",\"resultLabel.txt\")       \n"
   ]
  },
  {
   "cell_type": "code",
   "execution_count": 3,
   "metadata": {},
   "outputs": [
    {
     "name": "stdout",
     "output_type": "stream",
     "text": [
      "Model loaded succeed\n",
      "THULAC程序平均运行时间为： 0.011411580000003595 秒\n",
      "Jieba程序平均运行时间为： 1.5599999983351153e-06 秒\n"
     ]
    }
   ],
   "source": [
    "# 导入“结巴”分词和THULAC库\n",
    "import jieba\n",
    "import thulac\n",
    "\n",
    "# 计算时间\n",
    "# 使用“结巴”分词进行分词\n",
    "def JieTest():\n",
    "    seg_list = jieba.cut(\"Python是一门优秀的编程语言\")\n",
    "\n",
    "thu = thulac.thulac()\n",
    "# 使用THULAC进行分词和词性标注\n",
    "def THINTest():\n",
    "    seg_list = thu.cut(\"Python是一门优秀的编程语言\", text=True)\n",
    "\n",
    "\n",
    "import timeit\n",
    "\n",
    "\n",
    "elapsed_time = timeit.timeit(THINTest, number=20)/20\n",
    "print(\"THULAC程序平均运行时间为：\", elapsed_time, \"秒\")\n",
    "\n",
    "elapsed_time = timeit.timeit(JieTest, number=20)/20\n",
    "print(\"Jieba程序平均运行时间为：\", elapsed_time, \"秒\")\n"
   ]
  },
  {
   "cell_type": "code",
   "execution_count": 4,
   "metadata": {},
   "outputs": [
    {
     "name": "stdout",
     "output_type": "stream",
     "text": [
      "find the index in 10\n"
     ]
    }
   ],
   "source": [
    "# KMP算法代码实现：\n",
    "def kmp_match(s, p):\n",
    "    m, n = len(s), len(p)\n",
    "    if n == 0:\n",
    "        return 0\n",
    "    next = get_next(p)\n",
    "    i, j = 0, 0\n",
    "    # 在文本串中匹配模式串\n",
    "    while i < m and j < n:\n",
    "        if j == -1 or s[i] == p[j]:\n",
    "            i += 1\n",
    "            j += 1\n",
    "        else:\n",
    "            j = next[j]\n",
    "    if j == n:\n",
    "        return i - j\n",
    "    return -1\n",
    "# 根据子串构建next数组\n",
    "def get_next(p):\n",
    "    n = len(p)\n",
    "    # 构建next数组，初始化均为-1\n",
    "    next = [-1] * n\n",
    "    i, j = 0, -1\n",
    "    # \n",
    "    while i < n - 1:\n",
    "        if j == -1 or p[i] == p[j]:\n",
    "            i += 1\n",
    "            j += 1\n",
    "            next[i] = j\n",
    "        else:\n",
    "            j = next[j]\n",
    "    return next\n",
    "\n",
    "print(f'find the index in {kmp_match(\"abcabccbdsddd\", \"ddd\")}')"
   ]
  },
  {
   "cell_type": "code",
   "execution_count": 5,
   "metadata": {},
   "outputs": [],
   "source": [
    "import ahocorasick\n",
    "def ac_search(text = \"dabxasadudsddd\",keywords = [\"ddd\", \"banana\", \"orange\"]):\n",
    "    # 创建AC自动机\n",
    "    AC = ahocorasick.Automaton()\n",
    "    # 添加关键词\n",
    "    for keyword in keywords:\n",
    "        AC.add_word(keyword, keyword)\n",
    "    # 构建AC自动机\n",
    "    AC.make_automaton()\n",
    "    # 搜索文本\n",
    "    for end_index, keyword in AC.iter(text):\n",
    "        start_index = end_index - len(keyword) + 1\n",
    "        # print(\"Found keyword '{}' at index ({}, {})\".format(keyword, start_index, end_index))"
   ]
  },
  {
   "cell_type": "code",
   "execution_count": 32,
   "metadata": {},
   "outputs": [
    {
     "name": "stdout",
     "output_type": "stream",
     "text": [
      "find the index in 2\n"
     ]
    }
   ],
   "source": [
    "def bm_search(text, pattern):\n",
    "    # 创建一个字典用于记录每个字符最后一次出现的位置\n",
    "    last_occurrence = {}\n",
    "    for i, char in enumerate(pattern):\n",
    "        last_occurrence[char] = i\n",
    "    n = len(text)\n",
    "    m = len(pattern)\n",
    "    i = m - 1  # 指向text中当前比较的最后一个字符,好后缀\n",
    "    j = m - 1  # 指向pattern中当前比较的最后一个字符\n",
    "\n",
    "    while i < n:\n",
    "        if text[i] == pattern[j]:  # 如果当前字符匹配成功，则继续往前匹配\n",
    "            if j == 0:  # 如果已经匹配完整个pattern，则返回匹配位置\n",
    "                return i\n",
    "            i -= 1\n",
    "            j -= 1\n",
    "        else:\n",
    "            last = last_occurrence.get(text[i], -1)  # 获取text中当前字符最后一次出现的位置\n",
    "            # 查看好后缀规则，如果找到坏字符出现的位置，就\n",
    "            i = i + m - min(j, last + 1)  # 计算向右移动的距离\n",
    "            j = m - 1  # 重新开始匹配\n",
    "\n",
    "    return -1\n",
    "\n",
    "print(f'find the index in {bm_search(\"ddd89dd\", \"d89d\")}')"
   ]
  },
  {
   "cell_type": "code",
   "execution_count": 35,
   "metadata": {},
   "outputs": [
    {
     "name": "stdout",
     "output_type": "stream",
     "text": [
      "----------\n",
      "ac_search cost time is 0.028746604919433594s\n",
      "----------\n",
      "----------\n",
      "kmp_search cost time is 0.06082892417907715s\n",
      "----------\n",
      "----------\n",
      "bm_search cost time is 0.05094647407531738s\n",
      "----------\n"
     ]
    }
   ],
   "source": [
    "import random\n",
    "import string\n",
    "import time\n",
    "count = 10000\n",
    "# 生成随机字符串\n",
    "def random_string(length):\n",
    "    return ''.join(random.choice(string.ascii_lowercase) for _ in range(length))\n",
    "\n",
    "# 生成待搜索单词集合W(4-8) 1000个\n",
    "W = [random_string(random.randint(1, 2)) for _ in range(count)]\n",
    "\n",
    "# 生成字符串集合S(9-20)  1000个\n",
    "S = [random_string(random.randint(6, 8)) for _ in range(count)]\n",
    "\n",
    "\n",
    "# base 中放的是需要进行匹配的长字符集合\n",
    "# plate中则存放的是待搜索单词集合\n",
    "def ac_time_cost(base, plate):\n",
    "    start_time = time.time()\n",
    "    for i in range(len(base)):\n",
    "        res = ac_search(base[i],[plate[i]])\n",
    "    time_cost = time.time() - start_time\n",
    "    print('-'*10)\n",
    "    print(f'ac_search cost time is {time_cost}s')\n",
    "    print('-'*10)\n",
    "\n",
    "\n",
    "def kmp_time_cost(base, plate):\n",
    "    start_time = time.time()\n",
    "    for i in range(len(base)):\n",
    "        res = kmp_match(base[i],plate[i])\n",
    "        # print(f'{S[i]}与{W[i]}的匹配结果为 {res}')\n",
    "    time_cost = time.time() - start_time\n",
    "    print('-'*10)\n",
    "    print(f'kmp_search cost time is {time_cost}s')\n",
    "    print('-'*10)\n",
    "def bm_time_cost(base, plate):\n",
    "    start_time = time.time()\n",
    "    for i in range(len(base)):\n",
    "        res = bm_search(base[i],plate[i])\n",
    "        # print(f'{S[i]}与{W[i]}的匹配结果为 {res}')\n",
    "    time_cost = time.time() - start_time\n",
    "    print('-'*10)\n",
    "    print(f'bm_search cost time is {time_cost}s')\n",
    "    print('-'*10)\n",
    "\n",
    "ac_time_cost(S, W)\n",
    "kmp_time_cost(S, W)\n",
    "bm_time_cost(S, W)\n",
    "\n"
   ]
  },
  {
   "cell_type": "code",
   "execution_count": 37,
   "metadata": {},
   "outputs": [
    {
     "name": "stdout",
     "output_type": "stream",
     "text": [
      "record array length is 10000\n",
      "----------\n",
      "kmp_search cost time is 1.8856854438781738s\n",
      "----------\n",
      "----------\n",
      "bm_search cost time is 0.8476719856262207s\n",
      "----------\n",
      "----------\n",
      "ac_search cost time is 0.0492854118347168s\n",
      "----------\n"
     ]
    }
   ],
   "source": [
    "# 打开文本文件\n",
    "file = open('keyword-data.txt', 'r', encoding='utf8')\n",
    "\n",
    "record = []\n",
    "# 逐行读取文件内容\n",
    "for line in file.readlines():\n",
    "    for i in range(100):\n",
    "        record.append(line.strip()[4:])  # 去除每行末尾的换行符\n",
    "# 关闭文件\n",
    "file.close()\n",
    "words = ['春节放鞭炮','春节','放鞭炮','鞭炮']\n",
    "\n",
    "print(f'record array length is {len(record)}')\n",
    "\n",
    "# 由于BM与KMP一次比较只能计算出一个，因此这里需要使用循环来计算\n",
    "# KMP\n",
    "# 开始计时\n",
    "start_time = time.time()\n",
    "for i in range(len(record)):\n",
    "    for word in words:\n",
    "        kmp_match(record[i], word)\n",
    "time_cost = time.time() - start_time\n",
    "print('-'*10)\n",
    "print(f'kmp_search cost time is {time_cost}s')\n",
    "print('-'*10)\n",
    "\n",
    "# BM\n",
    "start_time = time.time()\n",
    "for i in range(len(record)):\n",
    "    for word in words:\n",
    "        bm_search(word,record[i])\n",
    "time_cost = time.time() - start_time\n",
    "print('-'*10)\n",
    "print(f'bm_search cost time is {time_cost}s')\n",
    "print('-'*10)\n",
    "\n",
    "# AC\n",
    "start_time = time.time()\n",
    "for i in range(len(record)):\n",
    "    ac_search(record[i], words)\n",
    "time_cost = time.time() - start_time\n",
    "print('-'*10)\n",
    "print(f'ac_search cost time is {time_cost}s')\n",
    "print('-'*10)\n",
    "\n"
   ]
  },
  {
   "cell_type": "code",
   "execution_count": 7,
   "metadata": {},
   "outputs": [
    {
     "name": "stdout",
     "output_type": "stream",
     "text": [
      "7\n"
     ]
    }
   ],
   "source": [
    "# 直接计算回文子串的数量\n",
    "# 中心扩展法\n",
    "def getAns(strs, start, end):\n",
    "    ans = 0\n",
    "    while(start >= 0 and end < len(strs) and strs[start] == strs[end]):\n",
    "        ans += 1\n",
    "        start -= 1\n",
    "        end += 1\n",
    "    return ans\n",
    "def find_sub_huiwen(strs):\n",
    "    ans = 0\n",
    "    for i in range(len(strs)):\n",
    "        ans += getAns(strs, i, i)\n",
    "        ans += getAns(strs, i, i+1)\n",
    "    return ans\n",
    "strs = input()\n",
    "# 尝试进行交换，获取最大值\n",
    "lens = len(strs)\n",
    "res = 0\n",
    "for i in range(lens - 1):\n",
    "    for j in range(lens - 2, i, -1):\n",
    "        if strs[i] != strs[j]:\n",
    "            strs = strs[:i] + strs[j]+strs[i+1:j] + strs[i]+strs[j+1:]\n",
    "        res = max(res,find_sub_huiwen(strs))\n",
    "print(res)\n"
   ]
  }
 ],
 "metadata": {
  "kernelspec": {
   "display_name": "Python 3",
   "language": "python",
   "name": "python3"
  },
  "language_info": {
   "codemirror_mode": {
    "name": "ipython",
    "version": 3
   },
   "file_extension": ".py",
   "mimetype": "text/x-python",
   "name": "python",
   "nbconvert_exporter": "python",
   "pygments_lexer": "ipython3",
   "version": "3.9.12"
  },
  "orig_nbformat": 4
 },
 "nbformat": 4,
 "nbformat_minor": 2
}
